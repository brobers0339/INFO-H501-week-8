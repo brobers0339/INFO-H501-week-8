{
  "cells": [
    {
      "cell_type": "markdown",
      "id": "7ef8962f",
      "metadata": {},
      "source": [
        "<font color='darkred'> Unless otherwise noted, **this notebook will not be reviewed or autograded.**</font> You are welcome to use it for scratchwork, but **only the files listed in the exercises will be checked.**\n",
        "\n",
        "---"
      ]
    },
    {
      "cell_type": "markdown",
      "id": "fd72ad2d",
      "metadata": {},
      "source": [
        "# Background\n",
        "\n",
        "Before we move into the exercises, we'll cover some background information to get you started."
      ]
    },
    {
      "cell_type": "code",
      "execution_count": 7,
      "id": "b2229a9e",
      "metadata": {},
      "outputs": [],
      "source": [
        "import numpy as np\n",
        "import pandas as pd\n",
        "import requests\n",
        "import re"
      ]
    },
    {
      "cell_type": "markdown",
      "id": "ad8d8983-a06e-4589-b8c8-d4ac8cac7919",
      "metadata": {
        "id": "ad8d8983-a06e-4589-b8c8-d4ac8cac7919"
      },
      "source": [
        "## Markov Chain Simple Example"
      ]
    },
    {
      "cell_type": "markdown",
      "id": "f605a922-f2b5-455f-ba19-e695a16ad1ea",
      "metadata": {
        "id": "f605a922-f2b5-455f-ba19-e695a16ad1ea"
      },
      "source": [
        "Markov chains are a way of representing how systems change over time. The main concept behind Markov chains are that they are memoryless, meaning that the next state of a process only depends on the previous state."
      ]
    },
    {
      "cell_type": "markdown",
      "id": "43a97067-1056-4622-8e08-03484625df99",
      "metadata": {
        "id": "43a97067-1056-4622-8e08-03484625df99"
      },
      "source": [
        "![image](https://upload.wikimedia.org/wikipedia/commons/7/7a/Markov_Chain_weather_model_matrix_as_a_graph.png)\n",
        "\n",
        "The way to read the Markov chain above from [Wikipedia](https://commons.wikimedia.org/w/index.php?curid=25300524) is:\n",
        "* If I am currently in the sunny state, there is a 10% chance I will go to the rainy state and a 90% chance I will remain in the sunny state\n",
        "* If I am currently in the rainy state, there is an 50% chance I will go to the sunny state and a 50% chance I will remain in the rainy state"
      ]
    },
    {
      "cell_type": "markdown",
      "id": "1c054964-eacf-4fc8-a9fc-f025dfd1f4fc",
      "metadata": {
        "id": "1c054964-eacf-4fc8-a9fc-f025dfd1f4fc"
      },
      "source": [
        "## Transition Matrices"
      ]
    },
    {
      "cell_type": "markdown",
      "id": "87016bb8-9079-4d08-8580-fd1e4d9f7e5e",
      "metadata": {
        "id": "87016bb8-9079-4d08-8580-fd1e4d9f7e5e"
      },
      "source": [
        "This is what our **transition matrix** will look like for the Markov chain diagram above. Take a minute to interpret the rows and columns of this matrix."
      ]
    },
    {
      "cell_type": "code",
      "execution_count": 5,
      "id": "71a600a6-85d4-488a-bcaf-6c3a5ce3079a",
      "metadata": {
        "id": "71a600a6-85d4-488a-bcaf-6c3a5ce3079a",
        "outputId": "fd498834-71a1-4835-f02a-0a8ee68d00eb",
        "tags": []
      },
      "outputs": [
        {
          "data": {
            "text/html": [
              "<div>\n",
              "<style scoped>\n",
              "    .dataframe tbody tr th:only-of-type {\n",
              "        vertical-align: middle;\n",
              "    }\n",
              "\n",
              "    .dataframe tbody tr th {\n",
              "        vertical-align: top;\n",
              "    }\n",
              "\n",
              "    .dataframe thead th {\n",
              "        text-align: right;\n",
              "    }\n",
              "</style>\n",
              "<table border=\"1\" class=\"dataframe\">\n",
              "  <thead>\n",
              "    <tr style=\"text-align: right;\">\n",
              "      <th></th>\n",
              "      <th>sunny</th>\n",
              "      <th>rainy</th>\n",
              "    </tr>\n",
              "  </thead>\n",
              "  <tbody>\n",
              "    <tr>\n",
              "      <th>sunny</th>\n",
              "      <td>0.9</td>\n",
              "      <td>0.1</td>\n",
              "    </tr>\n",
              "    <tr>\n",
              "      <th>rainy</th>\n",
              "      <td>0.5</td>\n",
              "      <td>0.5</td>\n",
              "    </tr>\n",
              "  </tbody>\n",
              "</table>\n",
              "</div>"
            ],
            "text/plain": [
              "       sunny  rainy\n",
              "sunny    0.9    0.1\n",
              "rainy    0.5    0.5"
            ]
          },
          "execution_count": 5,
          "metadata": {},
          "output_type": "execute_result"
        }
      ],
      "source": [
        "P = np.asarray([.9, .1, .5, .5]).reshape(2,2)\n",
        "states = ['sunny', 'rainy']\n",
        "\n",
        "pd.DataFrame(P, index=states, columns=states)"
      ]
    },
    {
      "cell_type": "markdown",
      "id": "5c6f5cef-fb28-4d0e-b95d-c7c36aa3eb8b",
      "metadata": {
        "id": "5c6f5cef-fb28-4d0e-b95d-c7c36aa3eb8b"
      },
      "source": [
        "## Predict Tomorrow's Weather"
      ]
    },
    {
      "cell_type": "markdown",
      "id": "1fda2172-64b6-443f-afe4-d9848662d942",
      "metadata": {
        "id": "1fda2172-64b6-443f-afe4-d9848662d942"
      },
      "source": [
        "Let's say it's sunny today, we can represent that as:\n",
        "\n",
        "`today = [1, 0]`\n",
        "\n",
        "**Predict tomorrow's weather using what you know about today and the transition matrix.**"
      ]
    },
    {
      "cell_type": "code",
      "execution_count": 6,
      "id": "512bdce6-4a18-445f-b261-cde15113e3fa",
      "metadata": {
        "id": "512bdce6-4a18-445f-b261-cde15113e3fa",
        "outputId": "c3bcde01-b776-4212-ff9a-1def9171cb9e",
        "tags": []
      },
      "outputs": [
        {
          "data": {
            "text/plain": [
              "array([0.9, 0.1])"
            ]
          },
          "execution_count": 6,
          "metadata": {},
          "output_type": "execute_result"
        }
      ],
      "source": [
        "today = [1, 0]\n",
        "\n",
        "tomorrow = np.dot(today, P)\n",
        "tomorrow"
      ]
    },
    {
      "cell_type": "markdown",
      "id": "a3a8e34c-9387-4859-8728-5cc55229fffb",
      "metadata": {
        "id": "a3a8e34c-9387-4859-8728-5cc55229fffb"
      },
      "source": [
        "In this example, there is a 90% chance it will remain sunny tomorrow, and a 10% chance it'll be rainy."
      ]
    },
    {
      "cell_type": "markdown",
      "id": "4909b3a0-5457-4fd3-b384-8854c3e2067d",
      "metadata": {
        "id": "4909b3a0-5457-4fd3-b384-8854c3e2067d"
      },
      "source": [
        "**Predict the day after tomorrow's weather.**"
      ]
    },
    {
      "cell_type": "code",
      "execution_count": 7,
      "id": "5b89f0dd-dd88-4e12-a346-2b636e440ecf",
      "metadata": {
        "id": "5b89f0dd-dd88-4e12-a346-2b636e440ecf",
        "outputId": "f7b6c51d-0958-4157-adba-e47c618f5243",
        "tags": []
      },
      "outputs": [
        {
          "data": {
            "text/plain": [
              "array([0.86, 0.14])"
            ]
          },
          "execution_count": 7,
          "metadata": {},
          "output_type": "execute_result"
        }
      ],
      "source": [
        "# Method 1: Multiply tomorrow's weather by the transition matrix\n",
        "day_after = np.dot(tomorrow, P)\n",
        "day_after"
      ]
    },
    {
      "cell_type": "code",
      "execution_count": 8,
      "id": "41380f5b-1e86-41dd-bbc0-e7ddfaab06d2",
      "metadata": {
        "id": "41380f5b-1e86-41dd-bbc0-e7ddfaab06d2",
        "outputId": "c137720a-4503-446b-fa55-8e39d27c7455",
        "tags": []
      },
      "outputs": [
        {
          "data": {
            "text/plain": [
              "array([0.86, 0.14])"
            ]
          },
          "execution_count": 8,
          "metadata": {},
          "output_type": "execute_result"
        }
      ],
      "source": [
        "# Method 2: Multiply today's weather by the transition matrix^2\n",
        "day_after = np.dot(today, np.linalg.matrix_power(P, 2))\n",
        "day_after"
      ]
    },
    {
      "cell_type": "markdown",
      "id": "b1d3f76b-f595-4c13-9a89-0cbd48349c36",
      "metadata": {
        "id": "b1d3f76b-f595-4c13-9a89-0cbd48349c36"
      },
      "source": [
        "## Text Generation\n",
        "\n",
        "Markov chains can also be used for very basic text generation. **Think about every word in a corpus as a state.** We can make a simple assumption that the next word is only dependent on the previous word - which is the basic assumption of a Markov chain. In this exercise, you'll create a text generator which uses only this concept."
      ]
    },
    {
      "cell_type": "markdown",
      "id": "820d3fd0-8987-4c33-80ee-41e5586daee1",
      "metadata": {
        "id": "820d3fd0-8987-4c33-80ee-41e5586daee1"
      },
      "source": [
        "## Read in some text to imitate"
      ]
    },
    {
      "cell_type": "markdown",
      "id": "5e1d3d75-fd70-407e-a517-ed9457280d37",
      "metadata": {
        "id": "5e1d3d75-fd70-407e-a517-ed9457280d37"
      },
      "source": [
        "We are going to generate some text in the style of inspirational quotes, so let's first read in the data."
      ]
    },
    {
      "cell_type": "code",
      "execution_count": 8,
      "id": "0ee57df9-dd76-413f-be7b-c102b3ec19bf",
      "metadata": {
        "id": "0ee57df9-dd76-413f-be7b-c102b3ec19bf",
        "outputId": "c93e3469-e6f4-4153-a3c8-a7b26edd6ea3",
        "tags": []
      },
      "outputs": [
        {
          "name": "stdout",
          "output_type": "stream",
          "text": [
            "“Healing comes from taking responsibility: to realize that it is you - and no one else - that creates your thoughts, your feelings, and your actions.” —Peter Shepherd\n",
            "\n",
            "“Life is a journey and if you fall in love with the journey you will be in love forever.” —Peter Hagerty\n",
            "\n",
            "“When you return to your old hometown, you find it wasn’t the town you missed, but your childhood.” —Earl Wilson\n",
            "\n",
            "“As we grow old, the beauty steals inward.” —Ralph Waldo Emerson\n",
            "\n",
            "“Life begins as a quest of the child for the man, and ends as a journey by the man to rediscover the child.” —Sam Ewing\n",
            "\n",
            "Happiness\n",
            "“Ultimately your greatest teacher is to live with an open heart.” —Emmanuel (Pat Rodegast)\n",
            "\n",
            "“Doing what you like is freedom. Liking what you do is happiness.” —Frank Tyger\n",
            "\n",
            "“We forge the chains we wear in life.” —Charles Dickens\n",
            "\n",
            "happiness quote\n",
            "“If you look to others for fulfillment, you will never be fulfilled. If your happiness depends on money, you will never be happy with yourself. Be content with what you \n"
          ]
        }
      ],
      "source": [
        "url = 'https://raw.githubusercontent.com/leontoddjohnson/datasets/main/text/inspiration_quotes.txt'\n",
        "\n",
        "content = requests.get(url)\n",
        "quotes_raw = content.text\n",
        "\n",
        "print(quotes_raw[:1000])"
      ]
    },
    {
      "cell_type": "markdown",
      "id": "c1e02773-dd1a-407c-ba2a-b01990f03f03",
      "metadata": {
        "id": "c1e02773-dd1a-407c-ba2a-b01990f03f03"
      },
      "source": [
        "## Clean up the text data\n",
        "\n",
        "There are many ways to clean up data before building a text generator. In this case, we'll try to at least just extract the quotes themselves.\n",
        "\n",
        "*After you complete the exercises, feel free to adjust this section of the process ...*"
      ]
    },
    {
      "cell_type": "code",
      "execution_count": 9,
      "id": "30a249e9-0207-41e9-ac53-f5b538604fec",
      "metadata": {
        "id": "30a249e9-0207-41e9-ac53-f5b538604fec",
        "outputId": "66c5953b-e28a-4d30-958e-a7a87a4a2801",
        "tags": []
      },
      "outputs": [
        {
          "data": {
            "text/plain": [
              "['',\n",
              " 'Healing comes from taking responsibility: to realize that it is you - and no one else - that creates your thoughts, your feelings, and your actions.',\n",
              " ' —Peter Shepherd  ']"
            ]
          },
          "execution_count": 9,
          "metadata": {},
          "output_type": "execute_result"
        }
      ],
      "source": [
        "quotes = quotes_raw.replace('\\n', ' ')\n",
        "quotes = re.split(\"[“”]\", quotes)   # split on the unique “ characters\n",
        "quotes[:3]"
      ]
    },
    {
      "cell_type": "code",
      "execution_count": 10,
      "id": "d741a9bf-1e8f-4138-aa0c-a250db1d2e53",
      "metadata": {
        "id": "d741a9bf-1e8f-4138-aa0c-a250db1d2e53",
        "outputId": "a11cd189-dbea-46d4-c255-636dad91ccc0",
        "tags": []
      },
      "outputs": [
        {
          "data": {
            "text/plain": [
              "['Healing comes from taking responsibility: to realize that it is you - and no one else - that creates your thoughts, your feelings, and your actions.',\n",
              " 'Life is a journey and if you fall in love with the journey you will be in love forever.',\n",
              " 'When you return to your old hometown, you find it wasn’t the town you missed, but your childhood.']"
            ]
          },
          "execution_count": 10,
          "metadata": {},
          "output_type": "execute_result"
        }
      ],
      "source": [
        "# skip the first one, and capture every other element\n",
        "quotes = quotes[1::2]\n",
        "quotes[:3]"
      ]
    },
    {
      "cell_type": "code",
      "execution_count": 11,
      "id": "fac9adc7-5b5c-449c-8a85-a011f14bce8a",
      "metadata": {
        "id": "fac9adc7-5b5c-449c-8a85-a011f14bce8a",
        "outputId": "a8b32ad0-56b8-4140-8790-23c181a949bc",
        "tags": []
      },
      "outputs": [
        {
          "data": {
            "text/plain": [
              "'Healing comes from taking responsibility: to realize that it is you - and no one else - that creates your thoughts, your feelings, and your actions. Life is a journey and if you fall in love with the '"
            ]
          },
          "execution_count": 11,
          "metadata": {},
          "output_type": "execute_result"
        }
      ],
      "source": [
        "# create one long corpus of text\n",
        "corpus = ' '.join(quotes)\n",
        "\n",
        "# remove long whitespaces (see regex101.com)\n",
        "corpus = re.sub(r\"\\s+\", \" \", corpus)\n",
        "\n",
        "# remove leading/trailing whitespaces\n",
        "corpus = corpus.strip()\n",
        "\n",
        "corpus[:200]"
      ]
    },
    {
      "cell_type": "markdown",
      "id": "NPc3-Aw7_x_m",
      "metadata": {
        "id": "NPc3-Aw7_x_m"
      },
      "source": [
        "In general, this version of `corpus` should work just fine!"
      ]
    },
    {
      "cell_type": "markdown",
      "id": "ce7213c9-fcea-47f2-a7d3-5dfeb14a0a42",
      "metadata": {
        "id": "ce7213c9-fcea-47f2-a7d3-5dfeb14a0a42"
      },
      "source": [
        "# Exercises\n",
        "\n",
        "In these exercises, you'll build a `MarkovText` object that takes in a `corpus` of text, and has the capability to generate text using the Markov Property."
      ]
    },
    {
      "cell_type": "code",
      "execution_count": 12,
      "id": "08914de7",
      "metadata": {},
      "outputs": [],
      "source": [
        "from apputil import *"
      ]
    },
    {
      "cell_type": "markdown",
      "id": "b7be36ce-4a51-410f-a0f9-138dfbaf1f2a",
      "metadata": {
        "id": "b7be36ce-4a51-410f-a0f9-138dfbaf1f2a"
      },
      "source": [
        "## Exercise 1: Build a Transition Dictionary"
      ]
    },
    {
      "cell_type": "markdown",
      "id": "a386cbbf-abdc-4f6e-bfb3-30988459f37e",
      "metadata": {
        "id": "a386cbbf-abdc-4f6e-bfb3-30988459f37e"
      },
      "source": [
        "Update the `get_term_dict` method to build a term dictionary of Markov states with the following traits:\n",
        "\n",
        "* The keys should be (unique) tokens in the corpus\n",
        "* For each key, the value should be a `list` of all the tokens that follow that key\n",
        "    - E.g., if my total corpus is \"Astrid is very kind, is she not?\", then my dictionary should include `{... \"is\": [\"very\", \"she\"] ...}`.\n",
        "    - Decide whether or not to include duplicates (i.e., *every* iteration) in these lists. Then, explain why or why not.\n",
        "\n",
        "*Hint: You'll likely want to use [`defaultdict(list)`](https://realpython.com/python-defaultdict/#understanding-the-python-defaultdict-type) here.*"
      ]
    },
    {
      "cell_type": "markdown",
      "id": "1eb4a8cb-4af2-40da-b873-8637a5e0990e",
      "metadata": {
        "id": "1eb4a8cb-4af2-40da-b873-8637a5e0990e"
      },
      "source": [
        "Apply the function to the quotes above. Your final output should look something like this:\n",
        "    \n",
        "```python\n",
        "{\n",
        "    'Healing': ['comes'],\n",
        "    'comes': ['from', 'the', 'the', ...],\n",
        "    'from': ['taking', 'aesthetic', 'a'],\n",
        "    ...\n",
        "}\n",
        "```"
      ]
    },
    {
      "cell_type": "code",
      "execution_count": 16,
      "id": "06392156",
      "metadata": {},
      "outputs": [],
      "source": [
        "%load_ext autoreload"
      ]
    },
    {
      "cell_type": "code",
      "execution_count": 63,
      "id": "8353b120",
      "metadata": {},
      "outputs": [
        {
          "name": "stdout",
          "output_type": "stream",
          "text": [
            "defaultdict(<class 'list'>, {'Healing': ['comes'], 'comes': ['from', 'from'], 'from': ['taking', 'aesthetic', 'a', 'having', 'not', 'the', 'the', 'it.', 'our', 'experience', 'experience.', 'avoiding', 'our'], 'taking': ['responsibility:', 'it.'], 'responsibility:': ['to'], 'to': ['realize', 'your', 'rediscover', 'live', 'others', 'you.', 'be', 'be', 'pay', 'give', 'share', 'have', 'draw', 'think', 'you;', 'go', 'the', 'obtain', 'mourn', 'live', 'a', 'make', 'forgive.', 'take', 'do.', 'be', 'be', 'change', 'control', 'an', 'take', 'accept', 'change', 'know', 'win,', 'be', 'succeed,', 'live', 'the', 'order,', 'clarity.', 'get', 'be', 'shine', 'manifest', 'do', 'work', 'work', 'think', 'play', 'read', 'be', 'happiness', 'love', 'share', 'be', 'laugh', 'dream', 'a', 'make', 'others;', 'prove', 'learn', 'focus', 'anything,', 'accept', 'change', 'know', 'treat', 'charge'], 'realize': ['that', 'there', 'it.', 'you'], 'that': ['it', 'creates', 'commands', 'tends', 'people', 'we', 'has', 'state', 'momentary', 'irritates', 'we', 'we', 'we', 'we', 'most', 'other', 'is', 'sets', 'is', 'we', 'we’re', 'we', 'take', 'you', 'bring', 'everything', 'nothing', 'it', 'makes', 'makes', 'he'], 'it': ['is', 'wasn’t', 'is', 'certainly', 'does', 'were', 'is', 'is', 'is', 'is', 'is', 'is', 'is', 'is', 'is', 'is', 'is', 'worth', 'becomes', 'is', 'either'], 'is': ['you', 'a', 'to', 'freedom.', 'happiness.', 'nothing', 'a', 'perfect', 'no', 'who', 'who', 'sufficient', '‘out', 'the', 'the', 'not', 'the', 'when', 'settled,', 'the', 'found', 'to', 'unavoidable,', 'unavoidable.', 'all', 'not', 'not', 'neither', 'a', 'an', 'nothing', 'far', 'not', 'appreciating', 'that', 'but', 'an', 'beauty,', 'bliss,', 'a', 'a', 'a', 'a', 'a', 'sorrow,', 'a', 'a', 'a', 'an', 'luck,', 'too', 'life,', 'getting', 'wanting', 'the', 'being', 'looking', 'happiness', 'knowing', 'taking', 'in', 'not', 'measured', 'no', 'a', 'perfect', 'that', 'our', 'nothing', 'within', 'not', 'in', 'a', 'only', 'not', 'the', 'the', 'the', 'the', 'the', 'the', 'too', 'the', 'hitching', 'not', 'unpopular', 'a', 'being', 'the', 'made', 'where', 'the', 'its', 'always', 'missing', 'the', 'a', 'not', 'required', 'really', 'like'], 'you': ['-', 'fall', 'will', 'return', 'find', 'missed,', 'like', 'do', 'look', 'will', 'will', 'have;', 'realize', 'in', 'need', 'want', 'think', 'should', 'are.', 'acquire,', 'confidence,', 'joy.', 'have.', 'want.', 'start', 'arrive', 'love.', 'present', 'want', 'want', 'want.', 'have.', 'want.', 'get.', 'see.', 'not', 'won’t', 'do', 'love,', 'never', 'have', 'have', 'take,', 'have', 'lack.', 'have,', 'would', 'did', 'realize', 'contain', 'seek.', 'worried', 'makes', 'stronger.', 'were', 'well', 'are', 'are'], '-': ['and', 'that', 'not', 'it’s', 'it’s', 'even', 'it', 'it', 'it', 'it', 'it', 'it', 'it', 'it', 'it'], 'and': ['no', 'your', 'if', 'ends', 'inspires', 'a', 'children', 'a', 'a', 'others', 'respect.', 'gratitude.', 'the', 'end', 'the', 'God.', 'it', 'ease', 'freedom.', 'body', 'earnestly.', 'take', 'the', 'equanimity.', 'the', 'women', 'their', 'one', 'wanting', 'creativity.', 'happiness', 'seeing', 'happiness', 'disturbs', 'watch', 'judge', 'watch', 'embrace', 'the', 'more.', 'creates', 'loving', 'then', 'chaos,', 'that', 'be', 'easy', 'you’ll', 'be', 'be', 'be', 'then', 'in', 'lack', 'personal', 'we', 'wisdom', 'meaning', 'yet,'], 'no': ['one', 'such', 'regret.', 'stress'], 'one': ['else', 'man', 'door', 'that', 'thing', 'gives'], 'else': ['-', 'for'], 'creates': ['your', 'a'], 'your': ['thoughts,', 'feelings,', 'actions.', 'old', 'childhood.', 'greatest', 'happiness', 'thoughts,', 'energy,', 'hopes.', 'work,', 'past', 'THOUGHTS,', 'WORDS.', 'WORDS,', 'ACTIONS.', 'ACTIONS,', 'HABITS.', 'HABITS,', 'VALUES.', 'VALUES,', 'wagon', 'breath', 'time', 'life.', 'dysfunction.'], 'thoughts,': ['your', 'liberates'], 'feelings,': ['and'], 'actions.': ['Life'], 'Life': ['is', 'begins', 'is', 'is', 'is', 'is', 'is', 'is', 'is', 'is', 'is', 'is', 'is', 'is', 'is', 'is', 'is', 'is', 'isn’t', 'is'], 'a': ['journey', 'quest', 'journey', 'gift', 'problem', 'gift', 'goal', 'little', 'little', 'substantial', 'couple', 'wife', 'corner', 'book', 'friend,', 'nap', 'more', 'station', 'manner', 'single', 'little', 'worthy', 'form', 'happy', 'measure', 'stage,', 'play...', 'dream,', 'challenge,', 'duty,', 'game,', 'promise,', 'song,', 'struggle,', 'tragedy,', 'living', 'life', 'meal', 'feast,', 'house', 'home,', 'stranger', 'friend.', 'vision', 'gift', 'child', 'curve', 'life', 'star.', 'true', 'comparative', 'kiss', 'kind', 'heartfelt', 'flower,', 'pebble', 'person', 'cloud', 'stranger,', 'disorganized', 'heaven', 'hell', 'blade', 'mysterious,', 'waste', 'good', 'vegetarian.', 'series'], 'journey': ['and', 'you', 'by'], 'if': ['you', 'this', 'it', 'you’ll', 'you’ll', 'we', 'we', 'you'], 'fall': ['in'], 'in': ['love', 'love', 'life.', 'the', 'its', 'eliminating', 'fact', 'finishing', 'doing', 'the', 'harmony', 'harmony', 'his', 'the', 'love', 'him/her', 'many', 'the', 'the', 'the', 'life', 'life', 'the', 'some', 'everyone.', 'life', 'being', 'our', 'any', 'the', 'the', 'the', 'itself', 'our', 'itself.'], 'love': ['with', 'forever.', 'with', 'is', 'and', 'and'], 'with': ['the', 'an', 'yourself.', 'what', 'you.', 'them.', 'what', 'love,', 'the', 'which', 'intention.', 'abandon.', 'no', 'patience', 'himself', 'the', 'that', 'what', 'it.', 'glory.'], 'the': ['journey', 'town', 'beauty', 'child', 'man,', 'man', 'child.', 'chains', 'way', 'world', 'universe', 'recipe', 'monthly', 'need', 'problem', 'problem.', 'spiritual', 'meaning', 'purpose', 'whole', 'denial', 'journey,', 'destination.', 'life', 'candle', 'heavens,', 'circumstances', 'adaptability', 'edge.', 'past,', 'future.', 'past,', 'future,', 'present', 'back.', 'ear.', 'word', 'stress', 'universe.', 'world’s', 'men', 'closed', 'one', 'first', 'enjoyment', 'achievement', 'joyful', 'past', 'future.', 'experience', 'absolute', 'same', 'disturbed', 'comfortable.', 'serenity', 'things', 'courage', 'things', 'wisdom', 'difference.', 'light', 'fullness', 'real', 'doing', 'end', 'final', 'doing', 'things', 'places', 'route', 'people', 'world,', 'midst', 'universe', 'world.', 'glory', 'same.', 'price', 'source', 'secret', 'fountain', 'road', 'nourishment', 'soul', 'music', 'heart', 'popular', 'dizziness', 'little', 'things', 'truly', 'street', 'tire', 'distance', 'sky', 'opportunity.', 'breaths', 'moments', 'things', 'best', 'tomorrow', 'abundance', 'joys', 'things', 'things', 'difference.', 'feeling', 'gratefulness', 'first', 'ending', 'very', 'movie,', 'hundreds', 'context', 'whole'], 'will': ['be', 'never', 'never', 'not', 'be', 'become', 'simply', 'be', 'be', 'tend...when', 'never', 'be'], 'be': ['in', 'fulfilled.', 'happy', 'happy,', 'just', 'traveled', 'lit', 'shortened.', 'quiet,', 'comfort', 'without', 'happy,', 'happy,', 'thou', 'true.', 'these', 'friendly', 'loved', 'selfish', 'dire', 'grateful.', 'appreciative.', 'thankful', 'happy!', 'content', 'filled', 'apparent'], 'forever.': ['When'], 'When': ['you', 'you', 'one'], 'return': ['to'], 'old': ['hometown,'], 'hometown,': ['you'], 'find': ['it', 'it,'], 'wasn’t': ['the'], 'town': ['you'], 'missed,': ['but'], 'but': ['your', 'a', 'in', 'it', 'to', 'through', 'often', 'a', 'I', 'the', 'our', 'by', 'very', 'are', 'the'], 'childhood.': ['As'], 'As': ['we', 'long', 'we'], 'we': ['grow', 'wear', 'experience', 'already', 'look', 'do', 'let', 'get,', 'make', 'give.', 'have', 'achieve,', 'go,', 'take', 'share', 'are', 'are', 'let', 'unconsciously', 'are', 'don’t', 'make', 'think', 'confront', 'need', 'become', 'can', 'know', 'choose', 'will', 'find', 'seek', 'will', 'choose', 'experience', 'must'], 'grow': ['old,'], 'old,': ['the'], 'beauty': ['steals', 'with'], 'steals': ['inward.'], 'inward.': ['Life'], 'begins': ['as'], 'as': ['a', 'a', 'a', 'this', 'if', 'they', 'if', 'if', 'children', 'we', 'parallel', 'though', 'a'], 'quest': ['of'], 'of': ['the', 'the', 'good', 'real', 'living', 'emotional', 'living', 'traveling.', 'life,', 'human', 'life.', 'candles', 'the', 'health', 'us', 'energy', 'who', 'which', 'which', 'darkness,', 'the', 'happiness', 'one’s', 'consciousness', 'one’s', 'wanting', 'loving', 'ourselves.', 'life.', 'our', 'what', 'it.', 'our', 'movement', 'you.', 'the', 'God.', 'God', 'us;', 'success', 'power', 'perpetual', 'wisdom', 'the', 'the', 'moral', 'high', 'freedom.', 'life', 'the', 'a', 'because', 'what', 'what', 'hell,', 'heaven.', 'nature', 'illusion', 'grass,', 'time;', 'him', 'movie', 'the', 'the', 'individual', 'the'], 'child': ['for', 'of'], 'for': ['the', 'fulfillment,', 'our', 'you', 'happiness', 'your', 'understanding,', 'love,', 'those', 'every', 'both', 'the', 'life’s', 'forgiveness', 'us.', 'it.', 'they', 'they', 'they', 'they', 'they', 'today,', 'tomorrow.', 'our', 'us', 'right', 'the', 'the', 'that,', 'the', 'your', 'your'], 'man,': ['and'], 'ends': ['as'], 'by': ['the', 'my', 'creditors', 'being', 'sadness.', 'what', 'what', 'the', 'the', 'measuring', 'the', 'the'], 'man': ['to', 'has', 'in', 'who'], 'rediscover': ['the'], 'child.': ['Ultimately'], 'Ultimately': ['your'], 'greatest': ['teacher'], 'teacher': ['is'], 'live': ['with', 'in', 'forever,', 'as', 'up'], 'an': ['open', 'activity', 'illusion.', 'opportunity,', 'adventure,', 'understanding', 'angry'], 'open': ['heart.'], 'heart.': ['Doing'], 'Doing': ['what'], 'what': ['you', 'you', 'you', 'should', 'should', 'you', 'you', 'you', 'they’ve', 'you', 'you', 'you', 'you', 'we', 'we', 'you', 'path', 'we', 'you’re', 'you’re', 'you’re', 'you', 'you', 'you', 'you', 'you', 'is', 'is'], 'like': ['is', 'expecting'], 'freedom.': ['Liking', 'Live', 'Do'], 'Liking': ['what'], 'do': ['is', 'not', 'not', 'the', 'something', 'not', 'all'], 'happiness.': ['We'], 'We': ['forge', 'can', 'make', 'all', 'fear', 'ask', 'are', 'are', 'avoid', 'can', 'can'], 'forge': ['the'], 'chains': ['we'], 'wear': ['in'], 'life.': ['If', 'Focus', 'Being', 'It', 'You'], 'If': ['you', 'your', 'you', 'you', 'you', 'you', 'we', 'we'], 'look': ['to', 'so', 'at'], 'others': ['for', 'joy,', 'cannot', 'to', 'can'], 'fulfillment,': ['you'], 'never': ['be', 'be', 'decreases', 'regret', 'have', 'know'], 'fulfilled.': ['If'], 'happiness': ['depends', 'to', 'from', 'and', 'is', 'closes,', 'and', 'brings', 'with', 'really', 'Take', 'of', 'that', 'quote'], 'depends': ['on'], 'on': ['money,', 'our', 'the', 'life’s', 'the', 'your', 'them.', 'our', 'what', 'earth.', 'earth'], 'money,': ['you'], 'happy': ['with', 'with', 'life', 'would', 'is'], 'yourself.': ['Be', 'That'], 'Be': ['content', 'happy', 'excited'], 'content': ['with', 'means'], 'have;': ['rejoice'], 'rejoice': ['in'], 'way': ['things', 'is'], 'things': ['are.', 'as', 'I', 'I', 'we', 'that', 'that', 'you', 'I', 'I'], 'are.': ['When', 'I'], 'there': ['is', 'will', 'is.', 'will'], 'nothing': ['lacking,', 'can', 'to', 'enlightening', 'is.'], 'lacking,': ['the'], 'world': ['belongs', 'is', 'in'], 'belongs': ['to'], 'you.': ['Everything', 'For', 'Everything'], 'Everything': ['is', 'is', 'that', 'is', 'is'], 'gift': ['of', 'for', 'of'], 'universe': ['—even', '-'], '—even': ['joy,'], 'joy,': ['anger,', 'and', 'anger,'], 'anger,': ['jealously,', 'jealously,'], 'jealously,': ['frustration,', 'frustration,'], 'frustration,': ['or', 'or'], 'or': ['separateness.', 'our', 'grief.', 'material', 'psychological', 'consumed.', 'unhappy', 'anticipate', 'loving.', 'even', 'it.', 'the', 'separateness.', 'our', 'smile,', 'discover.', 'the', 'at', 'tidy', 'last'], 'separateness.': ['Everything', 'Everything'], 'perfect': ['either', 'either'], 'either': ['for', 'for', 'for'], 'our': ['growth', 'enjoyment.', 'troubles', 'first', 'lives,', 'happiness', 'past,', 'experiences', 'growth', 'enjoyment.', 'deepest', 'light,', 'darkness,', 'light', 'own', 'presence', 'lives', 'car', 'lives,', 'conscious', 'lives', 'daily'], 'growth': ['or', 'or'], 'enjoyment.': ['There', 'We'], 'There': ['is', 'is', 'is', 'is', 'is'], 'such': ['thing'], 'thing': ['as', 'more'], 'problem': ['without', 'is'], 'without': ['a', 'remembering', 'forgetting.', 'a'], 'its': ['hands.', 'meaning', 'own'], 'hands.': ['You'], 'You': ['seek', 'cannot', 'never', 'are', 'are', 'can’t'], 'seek': ['problems', 'to', 'it.'], 'problems': ['because'], 'because': ['you', 'we', 'you', 'you'], 'need': ['their', 'for', 'for', 'to'], 'their': ['gifts.', 'exits', 'entrances;', 'value'], 'gifts.': ['If'], 'want': ['to', 'others', 'to'], 'happy,': ['set', 'practice', 'practice'], 'set': ['a'], 'goal': ['that'], 'commands': ['your'], 'liberates': ['your'], 'energy,': ['and'], 'inspires': ['your'], 'hopes.': ['Tension'], 'Tension': ['is'], 'who': ['you', 'you', 'are', 'can', 'we', 'can', 'lives', 'are', 'they', 'does'], 'think': ['you', 'the', '-', 'there'], 'should': ['be,', 'bring', 'bring'], 'be,': ['relaxation'], 'relaxation': ['is'], 'I': ['believe', 'cannot', 'can,', 'am', 'am', 'am', 'am', 'have.', 'cannot', 'can,'], 'believe': ['the'], 'recipe': ['for'], 'just': ['enough', 'expressed', 'in'], 'enough': ['money'], 'money': ['to'], 'pay': ['the'], 'monthly': ['bills'], 'bills': ['you'], 'acquire,': ['a'], 'little': ['surplus', 'too', 'temporary', 'charities'], 'surplus': ['to'], 'give': ['you', 'up', 'without', 'other'], 'confidence,': ['a'], 'too': ['much', 'much', 'precious,', 'short'], 'much': ['work', 'to'], 'work': ['each', 'again.', '-'], 'each': ['day,', 'of'], 'day,': ['enthusiasm'], 'enthusiasm': ['for'], 'work,': ['a', 'the'], 'substantial': ['share'], 'share': ['of', 'life’s', 'all', '-'], 'good': ['health,', 'person'], 'health,': ['a', 'family,'], 'couple': ['of'], 'real': ['friends', 'excitement'], 'friends': ['and'], 'wife': ['and'], 'children': ['to', 'do.'], 'life’s': ['beauty', 'big', 'smaller'], 'For': ['me'], 'me': ['it', 'the', 'serenity'], 'sufficient': ['to'], 'have': ['a', 'some.', 'their', 'peace', 'become', 'into', 'to', 'always', 'always', 'rather', 'sought', 'them.'], 'corner': ['by'], 'my': ['hearth,', 'god', 'devil.'], 'hearth,': ['a'], 'book': ['and'], 'friend,': ['and'], 'nap': ['undisturbed'], 'undisturbed': ['by'], 'creditors': ['or'], 'grief.': ['You'], 'cannot': ['judge', 'judge', 'be', 'be', 'change,', 'change,'], 'judge': ['what', 'what', 'your'], 'bring': ['others', 'you', 'happiness', 'us'], 'joy.': ['The'], 'The': ['art', 'best', 'secret', 'Pulitzer.', 'Nobel.', 'World', 'need', 'right', 'happiness', 'mind', 'moment'], 'art': ['of'], 'living': ['lies', 'every', 'by'], 'lies': ['less', 'our'], 'less': ['in'], 'eliminating': ['our'], 'troubles': ['than'], 'than': ['growing', 'learning', 'someone', 'of'], 'growing': ['with'], 'them.': ['Be', 'In', 'But', 'Happiness'], 'have.': ['Be', 'True', 'Gratitude'], 'excited': ['about'], 'about': ['what', 'the', 'others', 'shrinking', 'or', 'yesterday.', 'moving'], 'want.': ['Our', 'It', 'Happiness'], 'Our': ['capacity'], 'capacity': ['to'], 'draw': ['happiness'], 'aesthetic': ['objects'], 'objects': ['or'], 'material': ['goods'], 'goods': ['in'], 'fact': ['seems'], 'seems': ['critically'], 'critically': ['dependent'], 'dependent': ['on'], 'first': ['satisfying', 'place,', 'or'], 'satisfying': ['a'], 'more': ['important', 'of', 'painful'], 'important': ['range'], 'range': ['of'], 'emotional': ['or'], 'psychological': ['needs,'], 'needs,': ['among'], 'among': ['them'], 'them': ['the', 'if'], 'understanding,': ['for'], 'love,': ['expression', 'grace,', 'you'], 'expression': ['and'], 'respect.': ['If'], 'start': ['to'], '‘out': ['there,’'], 'there,’': ['stop'], 'stop': ['yourself.'], 'That': ['thought', 'which'], 'thought': ['is'], 'problem.': ['Happiness'], 'Happiness': ['cannot', 'is', 'is', 'is', 'never', 'is', 'is', 'is', 'is', 'in', 'in', 'is'], 'traveled': ['to,'], 'to,': ['owned,'], 'owned,': ['earned,'], 'earned,': ['worn'], 'worn': ['or'], 'consumed.': ['Happiness'], 'spiritual': ['experience'], 'experience': ['of', 'change,', 'of', 'and', 'Heaven'], 'every': ['minute', 'sorrow,', 'man'], 'minute': ['with'], 'grace,': ['and'], 'gratitude.': ['Happiness'], 'not': ['a', 'the', 'in', 'be', 'change', 'to', 'attained', 'on', 'balanced', 'finishing', 'see', 'having', 'destroy', 'bound', 'bound', 'what', 'the', 'measured', 'our', 'to', 'just', 'learning', 'always', 'driven', 'seek', 'in', 'have', 'to', 'kill', 'happiness', 'to', 'be'], 'station': ['you'], 'arrive': ['at,'], 'at,': ['but'], 'manner': ['of'], 'traveling.': ['Happiness'], 'meaning': ['and', 'if', 'may', 'within'], 'purpose': ['of'], 'life,': ['the', 'fight'], 'whole': ['aim', 'movie.'], 'aim': ['and'], 'end': ['of', '-', 'of'], 'human': ['existence.'], 'existence.': ['Security'], 'Security': ['is'], 'when': ['everything', 'nothing', 'it'], 'everything': ['is', 'straight.', 'is', 'as'], 'settled,': ['when'], 'can': ['happen', 'be', 'be', 'give', 'give', 'have', 'lead', 'turn', 'look', 'gaze', 'smile', 'make'], 'happen': ['to'], 'you;': ['security'], 'security': ['is'], 'denial': ['of', 'into'], 'Focus': ['on'], 'journey,': ['not'], 'destination.': ['Joy'], 'Joy': ['is'], 'found': ['not'], 'finishing': ['an', 'what'], 'activity': ['but'], 'doing': ['it.', 'is', 'of', 'it,'], 'it.': ['Thousands', 'Life', 'Life', 'Life', 'Life', 'Life', 'Life', 'Life', 'Life', 'Life', 'Life', 'Life', 'Life', 'Life', 'Life', 'Life', 'Success', 'Love', 'God,', 'It’s', 'The', 'To'], 'Thousands': ['of'], 'candles': ['can'], 'lit': ['from'], 'single': ['candle,'], 'candle,': ['and'], 'life': ['of', 'cannot', 'by', 'is', 'is', 'to', 'that', 'is', 'to', 'as'], 'candle': ['will'], 'shortened.': ['Happiness'], 'decreases': ['by'], 'being': ['shared.', 'kind.', 'in', 'who', 'better'], 'shared.': ['The'], 'best': ['remedy', 'in', 'and'], 'remedy': ['for'], 'those': ['who', 'who'], 'are': ['afraid,', 'those', 'the', 'inadequate,', 'powerful', 'you', 'a', 'all', 'born', 'liberated', 'not', 'grateful', 'responsible', 'a', 'a'], 'afraid,': ['lonely'], 'lonely': ['or'], 'unhappy': ['is'], 'go': ['outside,', 'of'], 'outside,': ['somewhere'], 'somewhere': ['where'], 'where': ['they', 'we', 'we'], 'they': ['can', 'come', 'become', 'will', 'have', 'shall', 'become', 'do', 'are,'], 'quiet,': ['alone'], 'alone': ['with'], 'heavens,': ['nature'], 'nature': ['and', 'and'], 'God.': ['As', 'Your'], 'long': ['as', 'at'], 'this': ['exists,', 'is', 'world'], 'exists,': ['and'], 'certainly': ['always'], 'always': ['will,', 'the', 'done', 'got.', 'our'], 'will,': ['then'], 'then': ['there', 'acting', 'reflect'], 'comfort': ['for'], 'sorrow,': ['whatever', 'overcome'], 'whatever': ['the'], 'circumstances': ['may'], 'may': ['be.', 'not'], 'be.': ['In'], 'In': ['our', 'the', 'the', 'our'], 'lives,': ['change', 'as', 'we'], 'change': ['is', 'the', 'the', 'the', 'the'], 'unavoidable,': ['loss'], 'loss': ['is'], 'unavoidable.': ['In'], 'adaptability': ['and'], 'ease': ['with'], 'which': ['we', 'every', 'all', 'proceeds', 'secret', 'does'], 'change,': ['lies', 'the', 'courage'], 'Live': ['with', 'as'], 'intention.': ['Walk'], 'Walk': ['to'], 'edge.': ['Listen'], 'Listen': ['hard.'], 'hard.': ['Practice'], 'Practice': ['wellness.'], 'wellness.': ['Play'], 'Play': ['with'], 'abandon.': ['Laugh.'], 'Laugh.': ['Choose'], 'Choose': ['with'], 'regret.': ['Do'], 'Do': ['what', 'what'], 'love.': ['Live'], 'all': ['there', 'eligible', 'men', 'get', 'of', 'meant', 'that'], 'is.': ['You', 'In'], 'regret': ['being'], 'kind.': ['They'], 'They': ['who', 'have'], 'up': ['essential', 'to', 'of'], 'essential': ['liberty'], 'liberty': ['to', 'nor'], 'obtain': ['a'], 'temporary': ['safety,'], 'safety,': ['deserve'], 'deserve': ['neither'], 'neither': ['liberty', 'my'], 'nor': ['safety.', 'my'], 'safety.': ['Forgiveness'], 'Forgiveness': ['does'], 'does': ['not', 'enlarge', 'not', 'simply'], 'past,': ['but', 'worry', 'brings'], 'enlarge': ['the'], 'future.': ['The', 'We'], 'secret': ['of', 'of', 'garden'], 'health': ['for'], 'both': ['mind'], 'mind': ['and', 'is'], 'body': ['is'], 'mourn': ['for'], 'worry': ['about'], 'future,': ['or'], 'anticipate': ['troubles,'], 'troubles,': ['but'], 'present': ['moment', 'blessings,'], 'moment': ['wisely', 'one'], 'wisely': ['and'], 'earnestly.': ['True'], 'True': ['happiness', 'happiness...'], 'attained': ['through'], 'through': ['self-gratification,', 'fidelity'], 'self-gratification,': ['but'], 'fidelity': ['to'], 'worthy': ['purpose.'], 'purpose.': ['Most'], 'Most': ['of'], 'us': ['miss', 'more', 'about', 'to', 'until', 'pleasure—the', 'grateful,', 'happy.'], 'miss': ['out'], 'out': ['on'], 'big': ['prizes.'], 'prizes.': ['The'], 'Pulitzer.': ['The'], 'Nobel.': ['Oscars.'], 'Oscars.': ['The'], 'World': ['Cup.'], 'Cup.': ['But'], 'But': ['we’re', 'the'], 'we’re': ['all', 'afraid'], 'eligible': ['for'], 'smaller': ['prizes...'], 'prizes...': ['A'], 'A': ['pat', 'kiss', 'four-pound', 'full', 'crackling', 'great', 'glorious', 'smile', 'man'], 'pat': ['on'], 'back.': ['A'], 'kiss': ['behind', 'or'], 'behind': ['the'], 'ear.': ['A'], 'four-pound': ['bass.'], 'bass.': ['A'], 'full': ['moon.'], 'moon.': ['An'], 'An': ['empty'], 'empty': ['parking'], 'parking': ['space.'], 'space.': ['A'], 'crackling': ['fire.'], 'fire.': ['A'], 'great': ['meal.'], 'meal.': ['A'], 'glorious': ['sunset.'], 'sunset.': ['Hot'], 'Hot': ['soup.'], 'soup.': ['Cold'], 'Cold': ['beer.'], 'beer.': ['Money'], 'Money': ['is', 'doesn’t'], 'god': ['nor'], 'devil.': ['It'], 'It': ['is', 'is', 'comes', 'is', 'turns', 'turns', 'can', 'is', 'is', 'is'], 'form': ['of'], 'energy': ['that'], 'tends': ['to'], 'make': ['us', 'it.', 'a', 'a', 'trouble', 'peace', 'themselves', 'a'], 'already': ['are,'], 'are,': ['whether', 'not'], 'whether': ['it’s'], 'it’s': ['greedy', 'not', 'really'], 'greedy': ['or'], 'loving.': ['The'], 'forgiveness': ['is'], 'illusion.': ['There'], 'forgive.': ['Blessed'], 'Blessed': ['are'], 'remembering': ['and'], 'take': ['without', 'things', 'next...', 'to', 'your'], 'forgetting.': ['Reflect'], 'Reflect': ['upon'], 'upon': ['you'], 'blessings,': ['of'], 'has': ['many', 'been', 'meaning'], 'many': ['-', 'parts.', 'different'], 'past': ['misfortunes,', 'and'], 'misfortunes,': ['of'], 'men': ['have', 'and'], 'some.': ['Even'], 'Even': ['a'], 'measure': ['of'], 'darkness,': ['and', 'that'], 'word': ['happy'], 'would': ['lose', 'have'], 'lose': ['its'], 'were': ['not', 'seeing'], 'balanced': ['by'], 'sadness.': ['It'], 'far': ['better'], 'better': ['to', 'than'], 'come': ['along', 'from', 'from'], 'along': ['with'], 'patience': ['and'], 'equanimity.': ['Much'], 'Much': ['of'], 'stress': ['that', 'in'], 'people': ['feel', 'that', 'thinking', 'around', 'permission'], 'feel': ['doesn’t', 'insecure.'], 'doesn’t': ['come', 'bring', 'serve'], 'having': ['too', 'what'], 'do.': ['It', 'We'], 'they’ve': ['started.'], 'started.': ['He'], 'He': ['who'], 'lives': ['in', 'in', 'come', 'but'], 'harmony': ['with', 'with'], 'himself': ['lives'], 'universe.': ['If'], 'practice': ['compassion.', 'compassion.'], 'compassion.': ['If', 'All'], 'All': ['the', 'this'], 'world’s': ['a'], 'stage,': ['and'], 'women': ['merely'], 'merely': ['players.'], 'players.': ['They'], 'exits': ['and'], 'entrances;': ['and'], 'his': ['time'], 'time': ['plays', 'to', 'to', 'to', 'to', 'to', 'to', 'to', 'to', 'to', 'on'], 'plays': ['many'], 'parts.': ['Dream'], 'Dream': ['as'], 'you’ll': ['live', 'die', 'get'], 'forever,': ['live'], 'die': ['today.'], 'today.': ['When'], 'door': ['of', 'that'], 'closes,': ['another'], 'another': ['opens,'], 'opens,': ['but'], 'often': ['we'], 'so': ['long', 'that'], 'at': ['the', 'someone', 'a', 'a', 'a', 'a', 'everything'], 'closed': ['door'], 'see': ['the', 'that'], 'been': ['opened'], 'opened': ['for'], 'us.': ['Happiness', 'We', 'It'], 'appreciating': ['what'], 'happiness...': ['arises,'], 'arises,': ['in'], 'place,': ['from', 'and'], 'enjoyment': ['of'], 'one’s': ['self.', 'values.'], 'self.': ['Happiness'], 'state': ['of'], 'consciousness': ['which'], 'proceeds': ['from'], 'achievement': ['of'], 'values.': ['All'], 'play...': ['be'], 'thou': ['the'], 'joyful': ['player.'], 'player.': ['Life'], 'opportunity,': ['benefit'], 'benefit': ['from'], 'beauty,': ['admire'], 'admire': ['it.'], 'bliss,': ['taste'], 'taste': ['it.'], 'dream,': ['realize'], 'challenge,': ['meet'], 'meet': ['it.'], 'duty,': ['complete'], 'complete': ['it.'], 'game,': ['play'], 'play': ['it.', '-'], 'promise,': ['fulfill'], 'fulfill': ['it.'], 'overcome': ['it.'], 'song,': ['sing'], 'sing': ['it.'], 'struggle,': ['accept'], 'accept': ['it.', 'the', 'will', 'the'], 'tragedy,': ['confront'], 'confront': ['it.', 'them.'], 'adventure,': ['dare'], 'dare': ['it.'], 'luck,': ['make'], 'precious,': ['do'], 'destroy': ['it.'], 'fight': ['for'], 'Success': ['is'], 'getting': ['what'], 'wanting': ['what', 'to', 'to'], 'get.': ['We'], 'peace': ['if', 'for', 'with'], 'let': ['go', 'our'], 'control': ['the'], 'get,': ['we'], 'give.': ['Money'], 'creativity.': ['Your'], 'Your': ['creativity', 'playing'], 'creativity': ['and'], 'brings': ['money.', 'peace'], 'money.': ['Happiness'], 'loving': ['life.', 'what'], 'Being': ['happy'], 'momentary': ['experience.'], 'experience.': ['And', 'Once'], 'And': ['love', 'as'], 'looking': ['at'], 'someone': ['or', 'else.', 'we'], 'even': ['something', 'joy,', 'a'], 'something': ['and', 'you'], 'seeing': ['the', 'it'], 'absolute': ['best'], 'him/her': ['or'], 'Love': ['is'], 'see.': ['So'], 'So': ['love'], 'really': ['are', 'in', 'about'], 'same': ['thing...'], 'thing...': ['just'], 'expressed': ['differently.'], 'differently.': ['Everything'], 'irritates': ['us'], 'lead': ['us'], 'understanding': ['of'], 'ourselves.': ['God'], 'God': ['comforts', 'that'], 'comforts': ['the'], 'disturbed': ['and'], 'disturbs': ['the'], 'comfortable.': ['Carefully'], 'Carefully': ['watch'], 'watch': ['your', 'your', 'your'], 'THOUGHTS,': ['for'], 'become': ['your', 'your', 'your', 'your', 'YOUR', 'uncomfortable'], 'WORDS.': ['Manage'], 'Manage': ['and'], 'WORDS,': ['for'], 'ACTIONS.': ['Consider'], 'Consider': ['and'], 'ACTIONS,': ['for'], 'HABITS.': ['Acknowledge'], 'Acknowledge': ['and'], 'HABITS,': ['for'], 'shall': ['become'], 'VALUES.': ['Understand'], 'Understand': ['and'], 'embrace': ['your'], 'VALUES,': ['for'], 'YOUR': ['DESTINY.'], 'DESTINY.': ['Wisdom'], 'Wisdom': ['is'], 'knowing': ['what'], 'path': ['to'], 'next...': ['Integrity'], 'Integrity': ['is'], 'God,': ['grant', 'grant'], 'grant': ['me', 'me'], 'serenity': ['to', 'to'], 'courage': ['to', 'to'], 'can,': ['and', 'and'], 'wisdom': ['to', 'Take', 'to'], 'know': ['the', 'or', 'the', 'peace;'], 'difference.': ['I', 'That'], 'am': ['not', 'bound', 'not', 'bound'], 'bound': ['to', 'to', 'to', 'to'], 'win,': ['I'], 'true.': ['I'], 'succeed,': ['but'], 'light': ['I', 'shine,'], 'Gratitude': ['unlocks', 'makes'], 'unlocks': ['the'], 'fullness': ['of'], 'turns': ['what', 'denial'], 'into': ['enough,', 'acceptance,', 'a', 'a', 'a'], 'enough,': ['and'], 'more.': ['It'], 'acceptance,': ['chaos'], 'chaos': ['to'], 'order,': ['confusion'], 'confusion': ['to'], 'clarity.': ['It'], 'turn': ['a'], 'meal': ['into'], 'feast,': ['a'], 'house': ['into'], 'home,': ['a'], 'stranger': ['into'], 'friend.': ['Gratitude'], 'makes': ['sense', 'you', 'us', 'us'], 'sense': ['of'], 'today,': ['and'], 'vision': ['for'], 'tomorrow.': ['We'], 'get': ['report', 'in', 'there.', 'what'], 'report': ['cards'], 'cards': ['in'], 'different': ['ways,'], 'ways,': ['but'], 'excitement': ['of'], 'you’re': ['doing', 'gonna', 'doing.'], 'It’s': ['not'], 'gonna': ['get'], 'final': ['curtain'], 'curtain': ['-'], 'it,': ['and', 'but'], 'doing.': ['Happiness'], 'measured': ['by', 'by', 'by'], 'achieve,': ['the'], 'places': ['we'], 'go,': ['or'], 'route': ['that'], 'there.': ['Happiness'], 'experiences': ['with.'], 'with.': ['There'], 'world,': ['only'], 'only': ['people', 'one'], 'thinking': ['stressful'], 'stressful': ['thoughts'], 'thoughts': ['and'], 'acting': ['on'], 'midst': ['of'], 'movement': ['and'], 'chaos,': ['keep'], 'keep': ['stillness', 'blaming'], 'stillness': ['inside'], 'inside': ['of'], 'fear': ['that', 'is'], 'inadequate,': ['but'], 'deepest': ['fear'], 'powerful': ['beyond'], 'beyond': ['measure.'], 'measure.': ['It'], 'light,': ['not'], 'most': ['frightens'], 'frightens': ['us.'], 'ask': ['ourselves:'], 'ourselves:': ['Actually,'], 'Actually,': ['who'], 'these': ['things?'], 'things?': ['You'], 'playing': ['small'], 'small': ['doesn’t'], 'serve': ['the'], 'world.': ['There'], 'enlightening': ['about'], 'shrinking': ['so'], 'other': ['people', 'people'], 'around': ['you'], 'won’t': ['feel'], 'insecure.': ['We'], 'meant': ['to'], 'shine': ['as'], 'born': ['to'], 'manifest': ['the'], 'glory': ['of'], 'within': ['us.', 'the'], 'some': ['of'], 'us;': ['it'], 'everyone.': ['And'], 'shine,': ['we'], 'unconsciously': ['give'], 'permission': ['to'], 'same.': ['As'], 'liberated': ['from'], 'own': ['fear,', 'place,'], 'fear,': ['our'], 'presence': ['automatically'], 'automatically': ['releases'], 'releases': ['others.'], 'others.': ['A'], 'smile': ['is', 'at'], 'curve': ['that'], 'sets': ['everything'], 'straight.': ['There'], 'painful': ['than'], 'learning': ['from', 'from'], 'Once': ['you'], 'again.': ['Take'], 'Take': ['time', 'time', 'time', 'time', 'time', 'time', 'time', 'time', 'time'], 'price': ['of'], 'success': ['Take'], 'source': ['of'], 'power': ['Take'], 'perpetual': ['youth'], 'youth': ['Take'], 'read': ['-'], 'fountain': ['of'], 'friendly': ['-'], 'road': ['to'], 'loved': ['-'], 'nourishment': ['of'], 'soul': ['Take'], 'short': ['a'], 'selfish': ['Take'], 'laugh': ['-'], 'music': ['of'], 'heart': ['Take'], 'dream': ['-'], 'hitching': ['your'], 'wagon': ['to'], 'star.': ['Anything'], 'Anything': ['in'], 'don’t': ['accept'], 'simply': ['make', 'what'], 'trouble': ['for'], 'until': ['we', 'the'], 'right': ['way', 'when'], 'popular': ['and'], 'easy': ['way.'], 'way.': ['Standing'], 'Standing': ['for'], 'unpopular': ['is'], 'true': ['test'], 'test': ['of'], 'moral': ['character.'], 'character.': ['Persons'], 'Persons': ['of'], 'high': ['self-esteem'], 'self-esteem': ['are'], 'driven': ['to'], 'themselves': ['superior', 'against'], 'superior': ['to'], 'others;': ['they'], 'prove': ['their'], 'value': ['by'], 'measuring': ['themselves'], 'against': ['a'], 'comparative': ['standard.'], 'standard.': ['Their'], 'Their': ['joy'], 'joy': ['is'], 'else.': ['Anxiety'], 'Anxiety': ['is'], 'dizziness': ['of'], 'done': ['and'], 'got.': ['The'], 'made': ['up'], 'charities': ['of'], 'smile,': ['a'], 'kind': ['look,'], 'look,': ['a'], 'heartfelt': ['compliment.'], 'compliment.': ['We'], 'avoid': ['the'], 'afraid': ['of'], 'dire': ['consequences', 'consequences'], 'consequences': ['if', 'in'], 'truly': ['dire'], 'avoiding': ['things'], 'learn': ['about'], 'discover.': ['If'], 'uncomfortable': ['in'], 'any': ['given'], 'given': ['moment,'], 'moment,': ['we'], 'flower,': ['a'], 'pebble': ['in'], 'street': ['or'], 'tire': ['on'], 'car': ['and'], 'grateful.': ['We'], 'gaze': ['at'], 'person': ['in', 'is'], 'distance': ['or'], 'cloud': ['in'], 'sky': ['and'], 'appreciative.': ['We'], 'stranger,': ['hug'], 'hug': ['someone'], 'tidy': ['a'], 'disorganized': ['shelf'], 'shelf': ['and'], 'thankful': ['for'], 'opportunity.': ['If'], 'choose': ['gratitude,', 'not'], 'gratitude,': ['we'], 'happy!': ['Life'], 'isn’t': ['measured'], 'breaths': ['you'], 'take,': ['but'], 'moments': ['that'], 'breath': ['away.'], 'away.': ['Think'], 'Think': ['of'], 'rather': ['than'], 'lack.': ['Of'], 'Of': ['the'], 'have,': ['select'], 'select': ['the'], 'reflect': ['how'], 'how': ['eagerly'], 'eagerly': ['you'], 'sought': ['them'], 'did': ['not'], 'very': ['rarely', 'end'], 'rarely': ['where'], 'To': ['be'], 'means': ['that'], 'contain': ['what'], 'seek.': ['Today'], 'Today': ['is'], 'tomorrow': ['you'], 'worried': ['about'], 'yesterday.': ['Was'], 'Was': ['it'], 'worth': ['it?'], 'it?': ['The'], 'itself': ['can'], 'heaven': ['of'], 'hell,': ['a'], 'hell': ['of'], 'heaven.': ['Both'], 'Both': ['abundance'], 'abundance': ['and', 'that’s'], 'lack': ['exist'], 'exist': ['simultaneously'], 'simultaneously': ['in'], 'parallel': ['realities.'], 'realities.': ['It'], 'conscious': ['choice'], 'choice': ['which'], 'garden': ['we'], 'tend...when': ['we'], 'focus': ['on'], 'missing': ['from'], 'grateful': ['for'], 'that’s': ['present—love,'], 'present—love,': ['health,'], 'family,': ['friends,'], 'friends,': ['work,'], 'joys': ['of'], 'personal': ['pursuits'], 'pursuits': ['that'], 'pleasure—the': ['wasteland'], 'wasteland': ['of'], 'illusion': ['falls'], 'falls': ['away'], 'away': ['and'], 'Heaven': ['on'], 'earth.': ['The'], 'gives': ['close'], 'close': ['attention'], 'attention': ['to'], 'anything,': ['even'], 'blade': ['of'], 'grass,': ['it'], 'becomes': ['a'], 'mysterious,': ['awesome,'], 'awesome,': ['indescribably'], 'indescribably': ['magnificent'], 'magnificent': ['world'], 'itself.': ['God,'], 'kill': ['you'], 'stronger.': ['Boredom'], 'Boredom': ['is'], 'feeling': ['that'], 'waste': ['of'], 'time;': ['serenity,'], 'serenity,': ['that'], 'daily': ['lives,'], 'must': ['see', 'do'], 'grateful,': ['but'], 'gratefulness': ['that'], 'happy.': ['A'], 'required': ['of'], 'him': ['will'], 'peace;': ['for'], 'that,': ['he'], 'he': ['must', 'can.'], 'can.': ['Look'], 'Look': ['at'], 'though': ['you'], 'last': ['time.'], 'time.': ['Then'], 'Then': ['your'], 'earth': ['will'], 'filled': ['with'], 'glory.': ['You'], 'responsible': ['for'], 'can’t': ['keep'], 'blaming': ['somebody'], 'somebody': ['else'], 'dysfunction.': ['Life'], 'moving': ['on.'], 'on.': ['Expecting'], 'Expecting': ['life'], 'treat': ['you'], 'well': ['because'], 'expecting': ['an'], 'angry': ['bull'], 'bull': ['not'], 'charge': ['because'], 'vegetarian.': ['View'], 'View': ['life'], 'series': ['of'], 'movie': ['frames,'], 'frames,': ['the'], 'ending': ['and'], 'apparent': ['until'], 'movie,': ['and'], 'yet,': ['each'], 'hundreds': ['of'], 'individual': ['frames'], 'frames': ['has'], 'context': ['of'], 'movie.': ['—Victor'], '—Victor': ['Frankl'], 'Frankl': ['happiness'], 'quote': ['—Tishan'], '—Tishan': ['—Theodore']})\n"
          ]
        }
      ],
      "source": [
        "%autoreload 2\n",
        "text_gen = MarkovText(corpus)\n",
        "\n",
        "print(text_gen.get_term_dict())"
      ]
    },
    {
      "cell_type": "markdown",
      "id": "3d82c2ca-357d-4115-9b53-b588c6628a14",
      "metadata": {
        "id": "3d82c2ca-357d-4115-9b53-b588c6628a14"
      },
      "source": [
        "## Exercise 2: Create a text generator\n",
        "\n",
        "Update the `generate()` method to generate sentences using the Markov property.\n",
        "\n",
        "- This should use the `.term_dict`, and it should take in the number of terms you want generated, `term_count`.\n",
        "- Your function should also be able to accept an *optional* user-defined `seed_term` that starts the generator. By default, you can have the function select a random first token.\n",
        "  - If the user-defined seed term is not in the corpus, raise a `ValueError`.\n",
        "- Each \"next word\" should be chosen *at random* given the \"current\" word and the term dictionary.\n",
        "  - Consider [`numpy.random.choice`](https://numpy.org/doc/stable/reference/random/generated/numpy.random.choice.html) for this.\n",
        "\n",
        "*Hint: think about what happens if the last term in the corpus occurs only **once**.*"
      ]
    },
    {
      "cell_type": "code",
      "execution_count": 68,
      "id": "2cd130b1",
      "metadata": {},
      "outputs": [
        {
          "data": {
            "text/plain": [
              "' meal into enough, and wanting to take to others; they are, whether it’s really in'"
            ]
          },
          "execution_count": 68,
          "metadata": {},
          "output_type": "execute_result"
        }
      ],
      "source": [
        "text_gen.generate()"
      ]
    },
    {
      "cell_type": "markdown",
      "id": "09c151e8-2ee4-4b16-9590-eb44ef342f58",
      "metadata": {
        "id": "09c151e8-2ee4-4b16-9590-eb44ef342f58"
      },
      "source": [
        "*Note: this exercise illustrates both a Markov Chain (with constant transition probabilities) **and** a [Monte Carlo Simulation](https://en.wikipedia.org/wiki/Monte_Carlo_method) (iterative sampling from a constantly defined probability distribution of words)!*"
      ]
    },
    {
      "cell_type": "markdown",
      "id": "a00abc1b",
      "metadata": {},
      "source": [
        "---\n",
        "\n",
        "# Bonus Exercise\n",
        "\n",
        "*<font color='darkorange'>The following exercise is completely optional</font>, and will not be reviewed unless explicitly requested. That said, these are interesting to work on if you have the time!*"
      ]
    },
    {
      "cell_type": "markdown",
      "id": "182bbcb9",
      "metadata": {},
      "source": [
        "Adjust your text generator such that we can increase the \"state window size\" from one word to `k` words. That is, the term dictionary in this version with `k = 2` would look something like this (*note the tuple keys*):\n",
        "\n",
        "```python\n",
        "{\n",
        "    (\"Healing\", \"comes\"): [\"from\", ...],\n",
        "    ...,\n",
        "    (\"it\", \"is\"): [\"you\", \"very\"],\n",
        "    ...\n",
        "}\n",
        "```\n",
        "\n",
        "Generate some text for `k` values of 1, 2, and 3, and compare the differences in text coherence. Try larger corpuses ..."
      ]
    }
  ],
  "metadata": {
    "colab": {
      "provenance": []
    },
    "kernelspec": {
      "display_name": "base",
      "language": "python",
      "name": "python3"
    },
    "language_info": {
      "codemirror_mode": {
        "name": "ipython",
        "version": 3
      },
      "file_extension": ".py",
      "mimetype": "text/x-python",
      "name": "python",
      "nbconvert_exporter": "python",
      "pygments_lexer": "ipython3",
      "version": "3.11.13"
    }
  },
  "nbformat": 4,
  "nbformat_minor": 5
}
